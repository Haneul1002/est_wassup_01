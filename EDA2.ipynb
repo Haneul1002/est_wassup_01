{
 "cells": [
  {
   "cell_type": "markdown",
   "metadata": {},
   "source": [
    "### 변수명,변수 설명\n",
    "\n",
    "- id : 아이디\n",
    "- base_date : 날짜\n",
    "- day_of_week : 요일\n",
    "- base_hour : 시간대\n",
    "- road_in_use : 도로사용여부\n",
    "- lane_count : 차로수\n",
    "- road_rating : 도로등급\n",
    "- multi_linked : 중용구간 여부\n",
    "- connect_code : 연결로 코드\n",
    "- maximum_speed_limit : 최고속도제한\n",
    "- weight_restricted : 통과제한하중\n",
    "- height_restricted : 통과제한높이\n",
    "- road_type : 도로유형\n",
    "- start_latitude : 시작지점의 위도\n",
    "- start_longitude : 시작지점의 경도\n",
    "- start_turn_restricted : 시작 지점의 회전제한 유무\n",
    "- end_latitude : 도착지점의 위도\n",
    "- end_longitude : 도착지점의 경도\n",
    "- end_turn_restricted : 도작지점의 회전제한 유무\n",
    "- road_name : 도로명\n",
    "- start_node_name : 시작지점명\n",
    "- end_node_name : 도착지점명\n",
    "- vehicle_restricted : 통과제한차량\n",
    "- target : 평균속도(km)\n"
   ]
  },
  {
   "cell_type": "code",
   "execution_count": 1,
   "metadata": {},
   "outputs": [],
   "source": [
    "import pandas as pd\n",
    "import numpy as np\n",
    "\n",
    "# Read the data\n",
    "train_data = pd.read_csv('/home/data/train_origin.csv')\n",
    "test_data = pd.read_csv('/home/data/test_origin.csv')"
   ]
  },
  {
   "cell_type": "code",
   "execution_count": 2,
   "metadata": {},
   "outputs": [
    {
     "data": {
      "text/plain": [
       "start_longitude\n",
       "126.567766    23291\n",
       "126.736249    20775\n",
       "126.456384    18137\n",
       "126.556173    18084\n",
       "126.505998    18076\n",
       "              ...  \n",
       "126.682267      881\n",
       "126.677154      788\n",
       "126.524410      744\n",
       "126.524429      744\n",
       "126.525745      587\n",
       "Name: count, Length: 586, dtype: int64"
      ]
     },
     "execution_count": 2,
     "metadata": {},
     "output_type": "execute_result"
    }
   ],
   "source": [
    "train_data['start_longitude'].value_counts()"
   ]
  },
  {
   "cell_type": "code",
   "execution_count": 3,
   "metadata": {},
   "outputs": [
    {
     "data": {
      "text/plain": [
       "start_latitude\n",
       "33.248633    23291\n",
       "33.435941    20775\n",
       "33.465863    18137\n",
       "33.507349    18084\n",
       "33.500330    18076\n",
       "             ...  \n",
       "33.491729      881\n",
       "33.437249      788\n",
       "33.256671      744\n",
       "33.261270      744\n",
       "33.257401      587\n",
       "Name: count, Length: 586, dtype: int64"
      ]
     },
     "execution_count": 3,
     "metadata": {},
     "output_type": "execute_result"
    }
   ],
   "source": [
    "train_data['start_latitude'].value_counts()"
   ]
  },
  {
   "cell_type": "code",
   "execution_count": 4,
   "metadata": {},
   "outputs": [
    {
     "data": {
      "text/plain": [
       "end_longitude\n",
       "126.567766    23126\n",
       "126.736249    20791\n",
       "126.456384    18168\n",
       "126.505998    18126\n",
       "126.556173    18083\n",
       "              ...  \n",
       "126.680766      881\n",
       "126.678235      788\n",
       "126.524331      744\n",
       "126.524410      744\n",
       "126.524429      587\n",
       "Name: count, Length: 586, dtype: int64"
      ]
     },
     "execution_count": 4,
     "metadata": {},
     "output_type": "execute_result"
    }
   ],
   "source": [
    "train_data['end_longitude'].value_counts()"
   ]
  },
  {
   "cell_type": "code",
   "execution_count": 5,
   "metadata": {},
   "outputs": [
    {
     "data": {
      "text/plain": [
       "end_latitude\n",
       "33.248633    23126\n",
       "33.435941    20791\n",
       "33.465863    18168\n",
       "33.500330    18126\n",
       "33.507349    18083\n",
       "             ...  \n",
       "33.491567      881\n",
       "33.468664      788\n",
       "33.254153      744\n",
       "33.256671      744\n",
       "33.261270      587\n",
       "Name: count, Length: 586, dtype: int64"
      ]
     },
     "execution_count": 5,
     "metadata": {},
     "output_type": "execute_result"
    }
   ],
   "source": [
    "train_data['end_latitude'].value_counts()"
   ]
  },
  {
   "cell_type": "code",
   "execution_count": 6,
   "metadata": {},
   "outputs": [
    {
     "data": {
      "text/plain": [
       "road_name\n",
       "일반국도12호선    1046092\n",
       "-            569463\n",
       "일반국도16호선     554510\n",
       "일반국도95호선     248181\n",
       "일반국도11호선     215701\n",
       "             ...   \n",
       "애원로            7718\n",
       "아봉로            7342\n",
       "남조로            6813\n",
       "호서중앙로          2819\n",
       "호근로             587\n",
       "Name: count, Length: 61, dtype: int64"
      ]
     },
     "execution_count": 6,
     "metadata": {},
     "output_type": "execute_result"
    }
   ],
   "source": [
    "train_data['road_name'].value_counts()"
   ]
  },
  {
   "cell_type": "code",
   "execution_count": 7,
   "metadata": {},
   "outputs": [],
   "source": [
    "train_data['ROAD_name'] = train_data['start_node_name'] + '-' + train_data['road_name']"
   ]
  },
  {
   "cell_type": "code",
   "execution_count": 8,
   "metadata": {},
   "outputs": [
    {
     "data": {
      "text/plain": [
       "ROAD_name\n",
       "미수2교-일반국도12호선            26635\n",
       "봉개교 시종점-번영로              24290\n",
       "해안교--                    24182\n",
       "영주교-일반국도11호선             23909\n",
       "동홍교-일반국도16호선             23628\n",
       "                         ...  \n",
       "서귀포시 호근동 1838-4-호서중앙로      744\n",
       "CU서귀호근로점-호서중앙로             744\n",
       "식당-호근로                     587\n",
       "영주교--                      472\n",
       "오렌지농원--                    464\n",
       "Name: count, Length: 561, dtype: int64"
      ]
     },
     "execution_count": 8,
     "metadata": {},
     "output_type": "execute_result"
    }
   ],
   "source": [
    "train_data['ROAD_name'].value_counts()"
   ]
  },
  {
   "cell_type": "code",
   "execution_count": 9,
   "metadata": {},
   "outputs": [],
   "source": [
    "# train_data = train_data.replace('-', np.NaN)"
   ]
  },
  {
   "cell_type": "code",
   "execution_count": 10,
   "metadata": {},
   "outputs": [
    {
     "name": "stdout",
     "output_type": "stream",
     "text": [
      "id                       0\n",
      "base_date                0\n",
      "day_of_week              0\n",
      "base_hour                0\n",
      "lane_count               0\n",
      "road_rating              0\n",
      "road_name                0\n",
      "multi_linked             0\n",
      "connect_code             0\n",
      "maximum_speed_limit      0\n",
      "vehicle_restricted       0\n",
      "weight_restricted        0\n",
      "height_restricted        0\n",
      "road_type                0\n",
      "start_node_name          0\n",
      "start_latitude           0\n",
      "start_longitude          0\n",
      "start_turn_restricted    0\n",
      "end_node_name            0\n",
      "end_latitude             0\n",
      "end_longitude            0\n",
      "end_turn_restricted      0\n",
      "target                   0\n",
      "ROAD_name                0\n",
      "dtype: int64\n"
     ]
    }
   ],
   "source": [
    "# Check for missing values\n",
    "missing_values_train_data = train_data.isnull().sum()\n",
    "# Display the missing values\n",
    "print(missing_values_train_data)"
   ]
  },
  {
   "cell_type": "code",
   "execution_count": 11,
   "metadata": {},
   "outputs": [
    {
     "data": {
      "text/plain": [
       "start_longitude\n",
       "126.567766    23291\n",
       "126.736249    20775\n",
       "126.456384    18137\n",
       "126.556173    18084\n",
       "126.505998    18076\n",
       "              ...  \n",
       "126.682267      881\n",
       "126.677154      788\n",
       "126.524410      744\n",
       "126.524429      744\n",
       "126.525745      587\n",
       "Name: count, Length: 586, dtype: int64"
      ]
     },
     "execution_count": 11,
     "metadata": {},
     "output_type": "execute_result"
    }
   ],
   "source": [
    "train_data['start_longitude'].value_counts()"
   ]
  },
  {
   "cell_type": "code",
   "execution_count": 12,
   "metadata": {},
   "outputs": [
    {
     "data": {
      "text/plain": [
       "Series([], Name: count, dtype: int64)"
      ]
     },
     "execution_count": 12,
     "metadata": {},
     "output_type": "execute_result"
    }
   ],
   "source": [
    "train_data[train_data.road_name.isna()][\"start_latitude\"].value_counts()"
   ]
  },
  {
   "cell_type": "code",
   "execution_count": 13,
   "metadata": {},
   "outputs": [
    {
     "data": {
      "text/plain": [
       "Series([], Name: count, dtype: int64)"
      ]
     },
     "execution_count": 13,
     "metadata": {},
     "output_type": "execute_result"
    }
   ],
   "source": [
    "train_data[train_data[\"start_latitude\"] == 33.472276].value_counts()"
   ]
  },
  {
   "cell_type": "code",
   "execution_count": 14,
   "metadata": {},
   "outputs": [],
   "source": [
    "from sklearn.preprocessing import LabelEncoder\n",
    "le = LabelEncoder()\n",
    "le=le.fit(train_data[\"start_latitude\"])\n",
    "train_data[\"start_latitude_enc\"]=le.transform(train_data[\"start_latitude\"])\n",
    "test_data[\"start_latitude_enc\"]=le.transform(test_data[\"start_latitude\"])"
   ]
  },
  {
   "cell_type": "code",
   "execution_count": 15,
   "metadata": {},
   "outputs": [
    {
     "data": {
      "text/html": [
       "<div>\n",
       "<style scoped>\n",
       "    .dataframe tbody tr th:only-of-type {\n",
       "        vertical-align: middle;\n",
       "    }\n",
       "\n",
       "    .dataframe tbody tr th {\n",
       "        vertical-align: top;\n",
       "    }\n",
       "\n",
       "    .dataframe thead th {\n",
       "        text-align: right;\n",
       "    }\n",
       "</style>\n",
       "<table border=\"1\" class=\"dataframe\">\n",
       "  <thead>\n",
       "    <tr style=\"text-align: right;\">\n",
       "      <th></th>\n",
       "      <th>id</th>\n",
       "      <th>base_date</th>\n",
       "      <th>day_of_week</th>\n",
       "      <th>base_hour</th>\n",
       "      <th>lane_count</th>\n",
       "      <th>road_rating</th>\n",
       "      <th>road_name</th>\n",
       "      <th>multi_linked</th>\n",
       "      <th>connect_code</th>\n",
       "      <th>maximum_speed_limit</th>\n",
       "      <th>...</th>\n",
       "      <th>start_latitude</th>\n",
       "      <th>start_longitude</th>\n",
       "      <th>start_turn_restricted</th>\n",
       "      <th>end_node_name</th>\n",
       "      <th>end_latitude</th>\n",
       "      <th>end_longitude</th>\n",
       "      <th>end_turn_restricted</th>\n",
       "      <th>target</th>\n",
       "      <th>ROAD_name</th>\n",
       "      <th>start_latitude_enc</th>\n",
       "    </tr>\n",
       "  </thead>\n",
       "  <tbody>\n",
       "    <tr>\n",
       "      <th>6</th>\n",
       "      <td>TRAIN_0000006</td>\n",
       "      <td>20220106</td>\n",
       "      <td>목</td>\n",
       "      <td>0</td>\n",
       "      <td>2</td>\n",
       "      <td>107</td>\n",
       "      <td>-</td>\n",
       "      <td>0</td>\n",
       "      <td>0</td>\n",
       "      <td>60.0</td>\n",
       "      <td>...</td>\n",
       "      <td>33.418412</td>\n",
       "      <td>126.268029</td>\n",
       "      <td>없음</td>\n",
       "      <td>나동</td>\n",
       "      <td>33.414175</td>\n",
       "      <td>126.269378</td>\n",
       "      <td>없음</td>\n",
       "      <td>39.0</td>\n",
       "      <td>가동--</td>\n",
       "      <td>307</td>\n",
       "    </tr>\n",
       "    <tr>\n",
       "      <th>14</th>\n",
       "      <td>TRAIN_0000014</td>\n",
       "      <td>20220203</td>\n",
       "      <td>목</td>\n",
       "      <td>16</td>\n",
       "      <td>1</td>\n",
       "      <td>107</td>\n",
       "      <td>-</td>\n",
       "      <td>0</td>\n",
       "      <td>0</td>\n",
       "      <td>60.0</td>\n",
       "      <td>...</td>\n",
       "      <td>33.316913</td>\n",
       "      <td>126.624634</td>\n",
       "      <td>없음</td>\n",
       "      <td>송목교</td>\n",
       "      <td>33.317065</td>\n",
       "      <td>126.623867</td>\n",
       "      <td>없음</td>\n",
       "      <td>58.0</td>\n",
       "      <td>송목교--</td>\n",
       "      <td>194</td>\n",
       "    </tr>\n",
       "    <tr>\n",
       "      <th>28</th>\n",
       "      <td>TRAIN_0000028</td>\n",
       "      <td>20220612</td>\n",
       "      <td>일</td>\n",
       "      <td>14</td>\n",
       "      <td>2</td>\n",
       "      <td>107</td>\n",
       "      <td>-</td>\n",
       "      <td>0</td>\n",
       "      <td>0</td>\n",
       "      <td>50.0</td>\n",
       "      <td>...</td>\n",
       "      <td>33.330822</td>\n",
       "      <td>126.354179</td>\n",
       "      <td>없음</td>\n",
       "      <td>금악</td>\n",
       "      <td>33.330673</td>\n",
       "      <td>126.354987</td>\n",
       "      <td>없음</td>\n",
       "      <td>59.0</td>\n",
       "      <td>광평교차로--</td>\n",
       "      <td>211</td>\n",
       "    </tr>\n",
       "    <tr>\n",
       "      <th>30</th>\n",
       "      <td>TRAIN_0000030</td>\n",
       "      <td>20220623</td>\n",
       "      <td>목</td>\n",
       "      <td>6</td>\n",
       "      <td>2</td>\n",
       "      <td>107</td>\n",
       "      <td>-</td>\n",
       "      <td>0</td>\n",
       "      <td>0</td>\n",
       "      <td>80.0</td>\n",
       "      <td>...</td>\n",
       "      <td>33.472276</td>\n",
       "      <td>126.418443</td>\n",
       "      <td>없음</td>\n",
       "      <td>상귀교차로</td>\n",
       "      <td>33.473390</td>\n",
       "      <td>126.409129</td>\n",
       "      <td>없음</td>\n",
       "      <td>75.0</td>\n",
       "      <td>일호유리--</td>\n",
       "      <td>421</td>\n",
       "    </tr>\n",
       "    <tr>\n",
       "      <th>31</th>\n",
       "      <td>TRAIN_0000031</td>\n",
       "      <td>20211028</td>\n",
       "      <td>목</td>\n",
       "      <td>15</td>\n",
       "      <td>1</td>\n",
       "      <td>107</td>\n",
       "      <td>-</td>\n",
       "      <td>0</td>\n",
       "      <td>0</td>\n",
       "      <td>60.0</td>\n",
       "      <td>...</td>\n",
       "      <td>33.337244</td>\n",
       "      <td>126.695809</td>\n",
       "      <td>없음</td>\n",
       "      <td>남수교</td>\n",
       "      <td>33.337398</td>\n",
       "      <td>126.696117</td>\n",
       "      <td>없음</td>\n",
       "      <td>36.0</td>\n",
       "      <td>남수교--</td>\n",
       "      <td>217</td>\n",
       "    </tr>\n",
       "    <tr>\n",
       "      <th>...</th>\n",
       "      <td>...</td>\n",
       "      <td>...</td>\n",
       "      <td>...</td>\n",
       "      <td>...</td>\n",
       "      <td>...</td>\n",
       "      <td>...</td>\n",
       "      <td>...</td>\n",
       "      <td>...</td>\n",
       "      <td>...</td>\n",
       "      <td>...</td>\n",
       "      <td>...</td>\n",
       "      <td>...</td>\n",
       "      <td>...</td>\n",
       "      <td>...</td>\n",
       "      <td>...</td>\n",
       "      <td>...</td>\n",
       "      <td>...</td>\n",
       "      <td>...</td>\n",
       "      <td>...</td>\n",
       "      <td>...</td>\n",
       "      <td>...</td>\n",
       "    </tr>\n",
       "    <tr>\n",
       "      <th>4701204</th>\n",
       "      <td>TRAIN_4701204</td>\n",
       "      <td>20211001</td>\n",
       "      <td>금</td>\n",
       "      <td>19</td>\n",
       "      <td>1</td>\n",
       "      <td>107</td>\n",
       "      <td>-</td>\n",
       "      <td>0</td>\n",
       "      <td>0</td>\n",
       "      <td>60.0</td>\n",
       "      <td>...</td>\n",
       "      <td>33.325096</td>\n",
       "      <td>126.665698</td>\n",
       "      <td>없음</td>\n",
       "      <td>서중2교</td>\n",
       "      <td>33.331742</td>\n",
       "      <td>126.676431</td>\n",
       "      <td>없음</td>\n",
       "      <td>55.0</td>\n",
       "      <td>한남교차로--</td>\n",
       "      <td>208</td>\n",
       "    </tr>\n",
       "    <tr>\n",
       "      <th>4701205</th>\n",
       "      <td>TRAIN_4701205</td>\n",
       "      <td>20220112</td>\n",
       "      <td>수</td>\n",
       "      <td>19</td>\n",
       "      <td>1</td>\n",
       "      <td>107</td>\n",
       "      <td>-</td>\n",
       "      <td>0</td>\n",
       "      <td>0</td>\n",
       "      <td>50.0</td>\n",
       "      <td>...</td>\n",
       "      <td>33.450215</td>\n",
       "      <td>126.920771</td>\n",
       "      <td>없음</td>\n",
       "      <td>수협</td>\n",
       "      <td>33.448689</td>\n",
       "      <td>126.916358</td>\n",
       "      <td>없음</td>\n",
       "      <td>23.0</td>\n",
       "      <td>감귤창고--</td>\n",
       "      <td>366</td>\n",
       "    </tr>\n",
       "    <tr>\n",
       "      <th>4701208</th>\n",
       "      <td>TRAIN_4701208</td>\n",
       "      <td>20220323</td>\n",
       "      <td>수</td>\n",
       "      <td>19</td>\n",
       "      <td>2</td>\n",
       "      <td>107</td>\n",
       "      <td>-</td>\n",
       "      <td>0</td>\n",
       "      <td>0</td>\n",
       "      <td>80.0</td>\n",
       "      <td>...</td>\n",
       "      <td>33.287356</td>\n",
       "      <td>126.736525</td>\n",
       "      <td>없음</td>\n",
       "      <td>제2태흥교</td>\n",
       "      <td>33.287582</td>\n",
       "      <td>126.737512</td>\n",
       "      <td>없음</td>\n",
       "      <td>61.0</td>\n",
       "      <td>제2태흥교--</td>\n",
       "      <td>161</td>\n",
       "    </tr>\n",
       "    <tr>\n",
       "      <th>4701212</th>\n",
       "      <td>TRAIN_4701212</td>\n",
       "      <td>20211104</td>\n",
       "      <td>목</td>\n",
       "      <td>16</td>\n",
       "      <td>1</td>\n",
       "      <td>107</td>\n",
       "      <td>-</td>\n",
       "      <td>0</td>\n",
       "      <td>0</td>\n",
       "      <td>50.0</td>\n",
       "      <td>...</td>\n",
       "      <td>33.422145</td>\n",
       "      <td>126.278125</td>\n",
       "      <td>없음</td>\n",
       "      <td>금덕해운</td>\n",
       "      <td>33.420955</td>\n",
       "      <td>126.273750</td>\n",
       "      <td>없음</td>\n",
       "      <td>20.0</td>\n",
       "      <td>대림사거리--</td>\n",
       "      <td>317</td>\n",
       "    </tr>\n",
       "    <tr>\n",
       "      <th>4701213</th>\n",
       "      <td>TRAIN_4701213</td>\n",
       "      <td>20220331</td>\n",
       "      <td>목</td>\n",
       "      <td>2</td>\n",
       "      <td>2</td>\n",
       "      <td>107</td>\n",
       "      <td>-</td>\n",
       "      <td>0</td>\n",
       "      <td>0</td>\n",
       "      <td>80.0</td>\n",
       "      <td>...</td>\n",
       "      <td>33.472505</td>\n",
       "      <td>126.424368</td>\n",
       "      <td>없음</td>\n",
       "      <td>광삼교</td>\n",
       "      <td>33.472525</td>\n",
       "      <td>126.424890</td>\n",
       "      <td>없음</td>\n",
       "      <td>65.0</td>\n",
       "      <td>광삼교--</td>\n",
       "      <td>422</td>\n",
       "    </tr>\n",
       "  </tbody>\n",
       "</table>\n",
       "<p>569463 rows × 25 columns</p>\n",
       "</div>"
      ],
      "text/plain": [
       "                    id  base_date day_of_week  base_hour  lane_count  \\\n",
       "6        TRAIN_0000006   20220106           목          0           2   \n",
       "14       TRAIN_0000014   20220203           목         16           1   \n",
       "28       TRAIN_0000028   20220612           일         14           2   \n",
       "30       TRAIN_0000030   20220623           목          6           2   \n",
       "31       TRAIN_0000031   20211028           목         15           1   \n",
       "...                ...        ...         ...        ...         ...   \n",
       "4701204  TRAIN_4701204   20211001           금         19           1   \n",
       "4701205  TRAIN_4701205   20220112           수         19           1   \n",
       "4701208  TRAIN_4701208   20220323           수         19           2   \n",
       "4701212  TRAIN_4701212   20211104           목         16           1   \n",
       "4701213  TRAIN_4701213   20220331           목          2           2   \n",
       "\n",
       "         road_rating road_name  multi_linked  connect_code  \\\n",
       "6                107         -             0             0   \n",
       "14               107         -             0             0   \n",
       "28               107         -             0             0   \n",
       "30               107         -             0             0   \n",
       "31               107         -             0             0   \n",
       "...              ...       ...           ...           ...   \n",
       "4701204          107         -             0             0   \n",
       "4701205          107         -             0             0   \n",
       "4701208          107         -             0             0   \n",
       "4701212          107         -             0             0   \n",
       "4701213          107         -             0             0   \n",
       "\n",
       "         maximum_speed_limit  ...  start_latitude  start_longitude  \\\n",
       "6                       60.0  ...       33.418412       126.268029   \n",
       "14                      60.0  ...       33.316913       126.624634   \n",
       "28                      50.0  ...       33.330822       126.354179   \n",
       "30                      80.0  ...       33.472276       126.418443   \n",
       "31                      60.0  ...       33.337244       126.695809   \n",
       "...                      ...  ...             ...              ...   \n",
       "4701204                 60.0  ...       33.325096       126.665698   \n",
       "4701205                 50.0  ...       33.450215       126.920771   \n",
       "4701208                 80.0  ...       33.287356       126.736525   \n",
       "4701212                 50.0  ...       33.422145       126.278125   \n",
       "4701213                 80.0  ...       33.472505       126.424368   \n",
       "\n",
       "         start_turn_restricted  end_node_name end_latitude  end_longitude  \\\n",
       "6                           없음             나동    33.414175     126.269378   \n",
       "14                          없음            송목교    33.317065     126.623867   \n",
       "28                          없음             금악    33.330673     126.354987   \n",
       "30                          없음          상귀교차로    33.473390     126.409129   \n",
       "31                          없음            남수교    33.337398     126.696117   \n",
       "...                        ...            ...          ...            ...   \n",
       "4701204                     없음           서중2교    33.331742     126.676431   \n",
       "4701205                     없음             수협    33.448689     126.916358   \n",
       "4701208                     없음          제2태흥교    33.287582     126.737512   \n",
       "4701212                     없음           금덕해운    33.420955     126.273750   \n",
       "4701213                     없음            광삼교    33.472525     126.424890   \n",
       "\n",
       "         end_turn_restricted target ROAD_name  start_latitude_enc  \n",
       "6                         없음   39.0      가동--                 307  \n",
       "14                        없음   58.0     송목교--                 194  \n",
       "28                        없음   59.0   광평교차로--                 211  \n",
       "30                        없음   75.0    일호유리--                 421  \n",
       "31                        없음   36.0     남수교--                 217  \n",
       "...                      ...    ...       ...                 ...  \n",
       "4701204                   없음   55.0   한남교차로--                 208  \n",
       "4701205                   없음   23.0    감귤창고--                 366  \n",
       "4701208                   없음   61.0   제2태흥교--                 161  \n",
       "4701212                   없음   20.0   대림사거리--                 317  \n",
       "4701213                   없음   65.0     광삼교--                 422  \n",
       "\n",
       "[569463 rows x 25 columns]"
      ]
     },
     "execution_count": 15,
     "metadata": {},
     "output_type": "execute_result"
    }
   ],
   "source": [
    "train = train_data\n",
    "\n",
    "drop_road_name_index = train[train[\"road_name\"] == \"-\"].index\n",
    "temp_train = train.iloc[drop_road_name_index]\n",
    "temp_train"
   ]
  },
  {
   "cell_type": "code",
   "execution_count": 16,
   "metadata": {},
   "outputs": [
    {
     "name": "stdout",
     "output_type": "stream",
     "text": [
      "569463\n",
      "481943\n"
     ]
    }
   ],
   "source": [
    "test = test_data\n",
    "\n",
    "# .loc로 값 대체하기 전의 수 = 569463\n",
    "print(len(train[train[\"road_name\"] == \"-\"]))\n",
    "train.loc[(train[\"road_rating\"] == 107) & (train[\"weight_restricted\"] == 32400.0) & (train[\"road_name\"] == \"-\"), \"road_name\"] = \"산서로\"\n",
    "train.loc[(train[\"road_rating\"] == 107) & (train[\"weight_restricted\"] == 43200.0) & (train[\"road_name\"] == \"-\"), \"road_name\"] = \"중문로\"\n",
    "\n",
    "test.loc[(test[\"road_rating\"] == 107) & (test[\"weight_restricted\"] == 32400.0) & (test[\"road_name\"] == \"-\"), \"road_name\"] = \"산서로\"\n",
    "test.loc[(test[\"road_rating\"] == 107) & (test[\"weight_restricted\"] == 43200.0) & (test[\"road_name\"] == \"-\"), \"road_name\"] = \"중문로\"\n",
    "\n",
    "# .loc로 값 대체한 이후의 수 = 481943\n",
    "print(len(train[train[\"road_name\"] == \"-\"]))"
   ]
  },
  {
   "cell_type": "code",
   "execution_count": 17,
   "metadata": {},
   "outputs": [
    {
     "name": "stdout",
     "output_type": "stream",
     "text": [
      "481943\n",
      "379668\n"
     ]
    }
   ],
   "source": [
    "print(len(train[train[\"road_name\"] == \"-\"]))\n",
    "\n",
    "train.loc[(train[\"start_node_name\"] == \"송목교\") & (train[\"road_name\"] == \"-\"), \"road_name\"] = \"중문로\"\n",
    "train.loc[(train[\"start_node_name\"] == \"남수교\") & (train[\"road_name\"] == \"-\"), \"road_name\"] = \"중문로\"\n",
    "train.loc[(train[\"start_node_name\"] == \"하귀입구\") & (train[\"road_name\"] == \"-\"), \"road_name\"] = \"일반국도12호선\"\n",
    "train.loc[(train[\"start_node_name\"] == \"양계장\") & (train[\"road_name\"] == \"-\"), \"road_name\"] = \"일반국도12호선\"\n",
    "train.loc[(train[\"start_node_name\"] == \"난산입구\") & (train[\"road_name\"] == \"-\"), \"road_name\"] = \"지방도1119호선\"\n",
    "train.loc[(train[\"start_node_name\"] == \"영주교\") & (train[\"road_name\"] == \"-\"), \"road_name\"] = \"일반국도11호선\"\n",
    "train.loc[(train[\"start_node_name\"] == \"서중2교\") & (train[\"road_name\"] == \"-\"), \"road_name\"] = \"중문로\"\n",
    "train.loc[(train[\"start_node_name\"] == \"천제이교\") & (train[\"road_name\"] == \"-\"), \"road_name\"] = \"산서로\"\n",
    "train.loc[(train[\"start_node_name\"] == \"하나로교\") & (train[\"road_name\"] == \"-\"), \"road_name\"] = \"중문로\"\n",
    "train.loc[(train[\"start_node_name\"] == \"신하교\") & (train[\"road_name\"] == \"-\"), \"road_name\"] = \"중문로\"\n",
    "train.loc[(train[\"start_node_name\"] == \"야영장\") & (train[\"road_name\"] == \"-\"), \"road_name\"] = \"관광단지1로\"\n",
    "train.loc[(train[\"start_node_name\"] == \"월계교\") & (train[\"road_name\"] == \"-\"), \"road_name\"] = \"산서로\"\n",
    "train.loc[(train[\"start_node_name\"] == \"서울이용원\") & (train[\"road_name\"] == \"-\"), \"road_name\"] = \"태평로\"\n",
    "train.loc[(train[\"start_node_name\"] == \"김녕교차로\") & (train[\"road_name\"] == \"-\"), \"road_name\"] = \"일반국도12호선\"\n",
    "train.loc[(train[\"start_node_name\"] == \"어도초등교\") & (train[\"road_name\"] == \"-\"), \"road_name\"] = \"일반국도16호선\"\n",
    "train.loc[(train[\"start_node_name\"] == \"광삼교\") & (train[\"road_name\"] == \"-\"), \"road_name\"] = \"중문로\"\n",
    "train.loc[(train[\"start_node_name\"] == \"오렌지농원\") & (train[\"road_name\"] == \"-\"), \"road_name\"] = \"일반국도11호선\"\n",
    "train.loc[(train[\"start_node_name\"] == \"우사\") & (train[\"road_name\"] == \"-\"), \"road_name\"] = \"일반국도16호선\"\n",
    "train.loc[(train[\"start_node_name\"] == \"서귀포시산림조합\") & (train[\"road_name\"] == \"-\"), \"road_name\"] = \"지방도1136호선\"\n",
    "train.loc[(train[\"start_node_name\"] == \"성읍삼거리\") & (train[\"road_name\"] == \"-\"), \"road_name\"] = \"일반국도16호선\"\n",
    "\n",
    "test.loc[(test[\"start_node_name\"] == \"송목교\") & (test[\"road_name\"] == \"-\"), \"road_name\"] = \"중문로\"\n",
    "test.loc[(test[\"start_node_name\"] == \"남수교\") & (test[\"road_name\"] == \"-\"), \"road_name\"] = \"중문로\"\n",
    "test.loc[(test[\"start_node_name\"] == \"하귀입구\") & (test[\"road_name\"] == \"-\"), \"road_name\"] = \"일반국도12호선\"\n",
    "test.loc[(test[\"start_node_name\"] == \"양계장\") & (test[\"road_name\"] == \"-\"), \"road_name\"] = \"일반국도12호선\"\n",
    "test.loc[(test[\"start_node_name\"] == \"난산입구\") & (test[\"road_name\"] == \"-\"), \"road_name\"] = \"지방도1119호선\"\n",
    "test.loc[(test[\"start_node_name\"] == \"영주교\") & (test[\"road_name\"] == \"-\"), \"road_name\"] = \"일반국도11호선\"\n",
    "test.loc[(test[\"start_node_name\"] == \"서중2교\") & (test[\"road_name\"] == \"-\"), \"road_name\"] = \"중문로\"\n",
    "test.loc[(test[\"start_node_name\"] == \"천제이교\") & (test[\"road_name\"] == \"-\"), \"road_name\"] = \"산서로\"\n",
    "test.loc[(test[\"start_node_name\"] == \"하나로교\") & (test[\"road_name\"] == \"-\"), \"road_name\"] = \"중문로\"\n",
    "test.loc[(test[\"start_node_name\"] == \"신하교\") & (test[\"road_name\"] == \"-\"), \"road_name\"] = \"중문로\"\n",
    "test.loc[(test[\"start_node_name\"] == \"야영장\") & (test[\"road_name\"] == \"-\"), \"road_name\"] = \"관광단지1로\"\n",
    "test.loc[(test[\"start_node_name\"] == \"월계교\") & (test[\"road_name\"] == \"-\"), \"road_name\"] = \"산서로\"\n",
    "test.loc[(test[\"start_node_name\"] == \"서울이용원\") & (test[\"road_name\"] == \"-\"), \"road_name\"] = \"태평로\"\n",
    "test.loc[(test[\"start_node_name\"] == \"김녕교차로\") & (test[\"road_name\"] == \"-\"), \"road_name\"] = \"일반국도12호선\"\n",
    "test.loc[(test[\"start_node_name\"] == \"어도초등교\") & (test[\"road_name\"] == \"-\"), \"road_name\"] = \"일반국도16호선\"\n",
    "test.loc[(test[\"start_node_name\"] == \"광삼교\") & (test[\"road_name\"] == \"-\"), \"road_name\"] = \"중문로\"\n",
    "test.loc[(test[\"start_node_name\"] == \"오렌지농원\") & (test[\"road_name\"] == \"-\"), \"road_name\"] = \"일반국도11호선\"\n",
    "test.loc[(test[\"start_node_name\"] == \"우사\") & (test[\"road_name\"] == \"-\"), \"road_name\"] = \"일반국도16호선\"\n",
    "test.loc[(test[\"start_node_name\"] == \"서귀포시산림조합\") & (test[\"road_name\"] == \"-\"), \"road_name\"] = \"지방도1136호선\"\n",
    "test.loc[(test[\"start_node_name\"] == \"성읍삼거리\") & (test[\"road_name\"] == \"-\"), \"road_name\"] = \"일반국도16호선\"\n",
    "\n",
    "print(len(train[train[\"road_name\"] == \"-\"]))"
   ]
  },
  {
   "cell_type": "code",
   "execution_count": 18,
   "metadata": {},
   "outputs": [
    {
     "name": "stdout",
     "output_type": "stream",
     "text": [
      "379668\n",
      "282684\n"
     ]
    }
   ],
   "source": [
    "print(len(train[train[\"road_name\"] == \"-\"]))\n",
    "\n",
    "train.loc[(train[\"end_node_name\"] == \"남수교\") & (train[\"road_name\"] == \"-\"), \"road_name\"] = \"중문로\"\n",
    "train.loc[(train[\"end_node_name\"] == \"농협주유소\") & (train[\"road_name\"] == \"-\"), \"road_name\"] = \"월계교\"\n",
    "train.loc[(train[\"end_node_name\"] == \"난산입구\") & (train[\"road_name\"] == \"-\"), \"road_name\"] = \"지방도1119호선\"\n",
    "train.loc[(train[\"end_node_name\"] == \"성읍삼거리\") & (train[\"road_name\"] == \"-\"), \"road_name\"] = \"일반국도16호선\"\n",
    "train.loc[(train[\"end_node_name\"] == \"김녕교차로\") & (train[\"road_name\"] == \"-\"), \"road_name\"] = \"일반국도12호선\"\n",
    "train.loc[(train[\"end_node_name\"] == \"한남교차로\") & (train[\"road_name\"] == \"-\"), \"road_name\"] = \"서중2교\"\n",
    "train.loc[(train[\"end_node_name\"] == \"서울이용원\") & (train[\"road_name\"] == \"-\"), \"road_name\"] = \"태평로\"\n",
    "train.loc[(train[\"end_node_name\"] == \"하귀입구\") & (train[\"road_name\"] == \"-\"), \"road_name\"] = \"일반국도12호선\"\n",
    "train.loc[(train[\"end_node_name\"] == \"어도초등교\") & (train[\"road_name\"] == \"-\"), \"road_name\"] = \"일반국도16호선\"\n",
    "train.loc[(train[\"end_node_name\"] == \"월계교\") & (train[\"road_name\"] == \"-\"), \"road_name\"] = \"산서로\"\n",
    "train.loc[(train[\"end_node_name\"] == \"양계장\") & (train[\"road_name\"] == \"-\"), \"road_name\"] = \"일반국도12호선\"\n",
    "train.loc[(train[\"end_node_name\"] == \"하나로교\") & (train[\"road_name\"] == \"-\"), \"road_name\"] = \"중문로\"\n",
    "train.loc[(train[\"end_node_name\"] == \"광삼교\") & (train[\"road_name\"] == \"-\"), \"road_name\"] = \"중문로\"\n",
    "train.loc[(train[\"end_node_name\"] == \"수간교차로\") & (train[\"road_name\"] == \"-\"), \"road_name\"] = \"양계장\"\n",
    "train.loc[(train[\"end_node_name\"] == \"난산사거리\") & (train[\"road_name\"] == \"-\"), \"road_name\"] = \"난산입구\"\n",
    "train.loc[(train[\"end_node_name\"] == \"서중2교\") & (train[\"road_name\"] == \"-\"), \"road_name\"] = \"중문로\"\n",
    "train.loc[(train[\"end_node_name\"] == \"서귀포시산림조합\") & (train[\"road_name\"] == \"-\"), \"road_name\"] = \"지방도1136호선\"\n",
    "train.loc[(train[\"end_node_name\"] == \"옹포사거리\") & (train[\"road_name\"] == \"-\"), \"road_name\"] = \"월계교\"\n",
    "train.loc[(train[\"end_node_name\"] == \"진은교차로\") & (train[\"road_name\"] == \"-\"), \"road_name\"] = \"하나로교\"\n",
    "\n",
    "test.loc[(test[\"end_node_name\"] == \"남수교\") & (test[\"road_name\"] == \"-\"), \"road_name\"] = \"중문로\"\n",
    "test.loc[(test[\"end_node_name\"] == \"농협주유소\") & (test[\"road_name\"] == \"-\"), \"road_name\"] = \"월계교\"\n",
    "test.loc[(test[\"end_node_name\"] == \"난산입구\") & (test[\"road_name\"] == \"-\"), \"road_name\"] = \"지방도1119호선\"\n",
    "test.loc[(test[\"end_node_name\"] == \"성읍삼거리\") & (test[\"road_name\"] == \"-\"), \"road_name\"] = \"일반국도16호선\"\n",
    "test.loc[(test[\"end_node_name\"] == \"김녕교차로\") & (test[\"road_name\"] == \"-\"), \"road_name\"] = \"일반국도12호선\"\n",
    "test.loc[(test[\"end_node_name\"] == \"한남교차로\") & (test[\"road_name\"] == \"-\"), \"road_name\"] = \"서중2교\"\n",
    "test.loc[(test[\"end_node_name\"] == \"서울이용원\") & (test[\"road_name\"] == \"-\"), \"road_name\"] = \"태평로\"\n",
    "test.loc[(test[\"end_node_name\"] == \"하귀입구\") & (test[\"road_name\"] == \"-\"), \"road_name\"] = \"일반국도12호선\"\n",
    "test.loc[(test[\"end_node_name\"] == \"어도초등교\") & (test[\"road_name\"] == \"-\"), \"road_name\"] = \"일반국도16호선\"\n",
    "test.loc[(test[\"end_node_name\"] == \"월계교\") & (test[\"road_name\"] == \"-\"), \"road_name\"] = \"산서로\"\n",
    "test.loc[(test[\"end_node_name\"] == \"양계장\") & (test[\"road_name\"] == \"-\"), \"road_name\"] = \"일반국도12호선\"\n",
    "test.loc[(test[\"end_node_name\"] == \"하나로교\") & (test[\"road_name\"] == \"-\"), \"road_name\"] = \"중문로\"\n",
    "test.loc[(test[\"end_node_name\"] == \"광삼교\") & (test[\"road_name\"] == \"-\"), \"road_name\"] = \"중문로\"\n",
    "test.loc[(test[\"end_node_name\"] == \"수간교차로\") & (test[\"road_name\"] == \"-\"), \"road_name\"] = \"양계장\"\n",
    "test.loc[(test[\"end_node_name\"] == \"난산사거리\") & (test[\"road_name\"] == \"-\"), \"road_name\"] = \"난산입구\"\n",
    "test.loc[(test[\"end_node_name\"] == \"서중2교\") & (test[\"road_name\"] == \"-\"), \"road_name\"] = \"중문로\"\n",
    "test.loc[(test[\"end_node_name\"] == \"서귀포시산림조합\") & (test[\"road_name\"] == \"-\"), \"road_name\"] = \"지방도1136호선\"\n",
    "test.loc[(test[\"end_node_name\"] == \"옹포사거리\") & (test[\"road_name\"] == \"-\"), \"road_name\"] = \"월계교\"\n",
    "test.loc[(test[\"end_node_name\"] == \"진은교차로\") & (test[\"road_name\"] == \"-\"), \"road_name\"] = \"하나로교\"\n",
    "\n",
    "print(len(train[train[\"road_name\"] == \"-\"]))"
   ]
  },
  {
   "cell_type": "code",
   "execution_count": 19,
   "metadata": {},
   "outputs": [
    {
     "name": "stdout",
     "output_type": "stream",
     "text": [
      "586 586 586 586\n"
     ]
    },
    {
     "name": "stdout",
     "output_type": "stream",
     "text": [
      "586 586 586 586\n"
     ]
    }
   ],
   "source": [
    "# 소숫점 문제상 출력된 값을 그대로 사용한다면 값을 대체할 수 없는 문제가 있습니다.\n",
    "# 이를 해결하기 위해서 소숫점의 자릿수를 제한하겠습니다.\n",
    "print(train[\"start_latitude\"].nunique(),train[\"start_longitude\"].nunique(), train[\"end_latitude\"].nunique(), train[\"end_longitude\"].nunique())\n",
    "\n",
    "# 7번째자리에서 반올림 할 경우 train에서의 고윳값 갯수가 변하지 않습니다\n",
    "train[[\"start_latitude\", \"start_longitude\", \"end_latitude\", \"end_longitude\"]] = train[[\"start_latitude\", \"start_longitude\", \"end_latitude\", \"end_longitude\"]].apply(lambda x: round(x, 6))\n",
    "test[[\"start_latitude\", \"start_longitude\", \"end_latitude\", \"end_longitude\"]] = test[[\"start_latitude\", \"start_longitude\", \"end_latitude\", \"end_longitude\"]].apply(lambda x: round(x, 6))\n",
    "\n",
    "print(train[\"start_latitude\"].nunique(),train[\"start_longitude\"].nunique(), train[\"end_latitude\"].nunique(), train[\"end_longitude\"].nunique())"
   ]
  },
  {
   "cell_type": "code",
   "execution_count": 20,
   "metadata": {},
   "outputs": [
    {
     "name": "stdout",
     "output_type": "stream",
     "text": [
      "282684\n",
      "232879\n"
     ]
    }
   ],
   "source": [
    "print(len(train[train[\"road_name\"] == \"-\"]))\n",
    "\n",
    "train.loc[(train[\"start_latitude\"] == 33.409416) & (train[\"road_name\"] == \"-\"), \"road_name\"] = \"월계교\"\n",
    "train.loc[(train[\"start_latitude\"] == 33.402546) & (train[\"road_name\"] == \"-\"), \"road_name\"] = \"지방도1119호선\"\n",
    "train.loc[(train[\"start_latitude\"] == 33.471164) & (train[\"road_name\"] == \"-\"), \"road_name\"] = \"일반국도12호선\"\n",
    "train.loc[(train[\"start_latitude\"] == 33.411255) & (train[\"road_name\"] == \"-\"), \"road_name\"] = \"월계교\"\n",
    "train.loc[(train[\"start_latitude\"] == 33.405319) & (train[\"road_name\"] == \"-\"), \"road_name\"] = \"산서로\"\n",
    "train.loc[(train[\"start_latitude\"] == 33.322018) & (train[\"road_name\"] == \"-\"), \"road_name\"] = \"서중2교\"\n",
    "train.loc[(train[\"start_latitude\"] == 33.325096) & (train[\"road_name\"] == \"-\"), \"road_name\"] = \"중문로\"\n",
    "train.loc[(train[\"start_latitude\"] == 33.408431) & (train[\"road_name\"] == \"-\"), \"road_name\"] = \"산서로\"\n",
    "train.loc[(train[\"start_latitude\"] == 33.284189) & (train[\"road_name\"] == \"-\"), \"road_name\"] = \"중문로\"\n",
    "train.loc[(train[\"start_latitude\"] == 33.47339) & (train[\"road_name\"] == \"-\"), \"road_name\"] = \"양계장\"\n",
    "\n",
    "test.loc[(test[\"start_latitude\"] == 33.409416) & (test[\"road_name\"] == \"-\"), \"road_name\"] = \"월계교\"\n",
    "test.loc[(test[\"start_latitude\"] == 33.402546) & (test[\"road_name\"] == \"-\"), \"road_name\"] = \"지방도1119호선\"\n",
    "test.loc[(test[\"start_latitude\"] == 33.471164) & (test[\"road_name\"] == \"-\"), \"road_name\"] = \"일반국도12호선\"\n",
    "test.loc[(test[\"start_latitude\"] == 33.411255) & (test[\"road_name\"] == \"-\"), \"road_name\"] = \"월계교\"\n",
    "test.loc[(test[\"start_latitude\"] == 33.405319) & (test[\"road_name\"] == \"-\"), \"road_name\"] = \"산서로\"\n",
    "test.loc[(test[\"start_latitude\"] == 33.322018) & (test[\"road_name\"] == \"-\"), \"road_name\"] = \"서중2교\"\n",
    "test.loc[(test[\"start_latitude\"] == 33.325096) & (test[\"road_name\"] == \"-\"), \"road_name\"] = \"중문로\"\n",
    "test.loc[(test[\"start_latitude\"] == 33.408431) & (test[\"road_name\"] == \"-\"), \"road_name\"] = \"산서로\"\n",
    "test.loc[(test[\"start_latitude\"] == 33.284189) & (test[\"road_name\"] == \"-\"), \"road_name\"] = \"중문로\"\n",
    "test.loc[(test[\"start_latitude\"] == 33.47339) & (test[\"road_name\"] == \"-\"), \"road_name\"] = \"양계장\"\n",
    "\n",
    "print(len(train[train[\"road_name\"] == \"-\"]))"
   ]
  },
  {
   "cell_type": "code",
   "execution_count": 21,
   "metadata": {},
   "outputs": [
    {
     "name": "stdout",
     "output_type": "stream",
     "text": [
      "232879\n",
      "232879\n"
     ]
    }
   ],
   "source": [
    "print(len(train[train[\"road_name\"] == \"-\"]))\n",
    "\n",
    "train.loc[(train[\"start_latitude\"] == 33.409416) & (train[\"road_name\"] == \"-\"), \"road_name\"] = \"월계교\"\n",
    "train.loc[(train[\"start_latitude\"] == 33.402546) & (train[\"road_name\"] == \"-\"), \"road_name\"] = \"지방도1119호선\"\n",
    "train.loc[(train[\"start_latitude\"] == 33.471164) & (train[\"road_name\"] == \"-\"), \"road_name\"] = \"일반국도12호선\"\n",
    "train.loc[(train[\"start_latitude\"] == 33.411255) & (train[\"road_name\"] == \"-\"), \"road_name\"] = \"월계교\"\n",
    "train.loc[(train[\"start_latitude\"] == 33.405319) & (train[\"road_name\"] == \"-\"), \"road_name\"] = \"산서로\"\n",
    "train.loc[(train[\"start_latitude\"] == 33.322018) & (train[\"road_name\"] == \"-\"), \"road_name\"] = \"서중2교\"\n",
    "train.loc[(train[\"start_latitude\"] == 33.325096) & (train[\"road_name\"] == \"-\"), \"road_name\"] = \"중문로\"\n",
    "train.loc[(train[\"start_latitude\"] == 33.408431) & (train[\"road_name\"] == \"-\"), \"road_name\"] = \"산서로\"\n",
    "train.loc[(train[\"start_latitude\"] == 33.284189) & (train[\"road_name\"] == \"-\"), \"road_name\"] = \"중문로\"\n",
    "train.loc[(train[\"start_latitude\"] == 33.47339) & (train[\"road_name\"] == \"-\"), \"road_name\"] = \"양계장\"\n",
    "\n",
    "test.loc[(test[\"start_latitude\"] == 33.409416) & (test[\"road_name\"] == \"-\"), \"road_name\"] = \"월계교\"\n",
    "test.loc[(test[\"start_latitude\"] == 33.402546) & (test[\"road_name\"] == \"-\"), \"road_name\"] = \"지방도1119호선\"\n",
    "test.loc[(test[\"start_latitude\"] == 33.471164) & (test[\"road_name\"] == \"-\"), \"road_name\"] = \"일반국도12호선\"\n",
    "test.loc[(test[\"start_latitude\"] == 33.411255) & (test[\"road_name\"] == \"-\"), \"road_name\"] = \"월계교\"\n",
    "test.loc[(test[\"start_latitude\"] == 33.405319) & (test[\"road_name\"] == \"-\"), \"road_name\"] = \"산서로\"\n",
    "test.loc[(test[\"start_latitude\"] == 33.322018) & (test[\"road_name\"] == \"-\"), \"road_name\"] = \"서중2교\"\n",
    "test.loc[(test[\"start_latitude\"] == 33.325096) & (test[\"road_name\"] == \"-\"), \"road_name\"] = \"중문로\"\n",
    "test.loc[(test[\"start_latitude\"] == 33.408431) & (test[\"road_name\"] == \"-\"), \"road_name\"] = \"산서로\"\n",
    "test.loc[(test[\"start_latitude\"] == 33.284189) & (test[\"road_name\"] == \"-\"), \"road_name\"] = \"중문로\"\n",
    "test.loc[(test[\"start_latitude\"] == 33.47339) & (test[\"road_name\"] == \"-\"), \"road_name\"] = \"양계장\"\n",
    "\n",
    "print(len(train[train[\"road_name\"] == \"-\"]))"
   ]
  },
  {
   "cell_type": "code",
   "execution_count": 22,
   "metadata": {},
   "outputs": [],
   "source": [
    "train.loc[(train[\"end_latitude\"] == 33.47339) & (train[\"road_name\"] == \"-\"), \"road_name\"] = \"일반국도12호선\"\n",
    "train.loc[(train[\"end_latitude\"] == 33.358358) & (train[\"road_name\"] == \"-\"), \"road_name\"] = \"일반국도16호선\"\n",
    "train.loc[(train[\"end_latitude\"] == 33.412573) & (train[\"road_name\"] == \"-\"), \"road_name\"] = \"월계교\"\n",
    "train.loc[(train[\"end_latitude\"] == 33.244882) & (train[\"road_name\"] == \"-\"), \"road_name\"] = \"산서로\"\n",
    "train.loc[(train[\"end_latitude\"] == 33.322018) & (train[\"road_name\"] == \"-\"), \"road_name\"] = \"중문로\"\n",
    "\n",
    "test.loc[(test[\"end_latitude\"] == 33.47339) & (test[\"road_name\"] == \"-\"), \"road_name\"] = \"일반국도12호선\"\n",
    "test.loc[(test[\"end_latitude\"] == 33.358358) & (test[\"road_name\"] == \"-\"), \"road_name\"] = \"일반국도16호선\"\n",
    "test.loc[(test[\"end_latitude\"] == 33.412573) & (test[\"road_name\"] == \"-\"), \"road_name\"] = \"월계교\"\n",
    "test.loc[(test[\"end_latitude\"] == 33.244882) & (test[\"road_name\"] == \"-\"), \"road_name\"] = \"산서로\"\n",
    "test.loc[(test[\"end_latitude\"] == 33.322018) & (test[\"road_name\"] == \"-\"), \"road_name\"] = \"중문로\""
   ]
  },
  {
   "cell_type": "code",
   "execution_count": 23,
   "metadata": {},
   "outputs": [],
   "source": [
    "train.loc[(train[\"start_longitude\"] == 126.259693) & (train[\"road_name\"] == \"-\"), \"road_name\"] = \"월계교\"\n",
    "\n",
    "test.loc[(test[\"start_longitude\"] == 126.259693) & (test[\"road_name\"] == \"-\"), \"road_name\"] = \"월계교\""
   ]
  },
  {
   "cell_type": "code",
   "execution_count": 24,
   "metadata": {},
   "outputs": [],
   "source": [
    "train.loc[(train[\"end_longitude\"] == 126.261797) & (train[\"road_name\"] == \"-\"), \"road_name\"] = \"월계교\"\n",
    "\n",
    "test.loc[(test[\"end_longitude\"] == 126.261797) & (test[\"road_name\"] == \"-\"), \"road_name\"] = \"월계교\""
   ]
  },
  {
   "cell_type": "code",
   "execution_count": 25,
   "metadata": {},
   "outputs": [
    {
     "name": "stdout",
     "output_type": "stream",
     "text": [
      "201686\n"
     ]
    }
   ],
   "source": [
    "print(len(train[train[\"road_name\"] == \"-\"]))"
   ]
  },
  {
   "cell_type": "code",
   "execution_count": 26,
   "metadata": {},
   "outputs": [],
   "source": [
    "train.loc[(train[\"end_longitude\"] == 126.414236) & (train[\"end_latitude\"] == 33.255215) & (train[\"lane_count\"] == 2) & (train[\"road_name\"] == \"-\"), \"road_name\"] = \"중문로\"\n",
    "train.loc[(train[\"end_longitude\"] == 126.456384) & (train[\"end_latitude\"] == 33.465863) & (train[\"lane_count\"] == 2) & (train[\"road_name\"] == \"-\"), \"road_name\"] = \"애조로\"\n",
    "\n",
    "test.loc[(test[\"end_longitude\"] == 126.414236) & (test[\"end_latitude\"] == 33.255215) & (test[\"lane_count\"] == 2) & (test[\"road_name\"] == \"-\"), \"road_name\"] = \"중문로\"\n",
    "test.loc[(test[\"end_longitude\"] == 126.456384) & (test[\"end_latitude\"] == 33.465863) & (test[\"lane_count\"] == 2) & (test[\"road_name\"] == \"-\"), \"road_name\"] = \"애조로\""
   ]
  },
  {
   "cell_type": "code",
   "execution_count": 27,
   "metadata": {},
   "outputs": [],
   "source": [
    "train.loc[(train[\"start_longitude\"] == 126.262739) & (train[\"start_latitude\"] == 33.415854) & (train[\"lane_count\"] == 2) & (train[\"road_name\"] == \"-\"), \"road_name\"] = \"월계교\"\n",
    "train.loc[(train[\"start_longitude\"] == 126.413687) & (train[\"start_latitude\"] == 33.255431) & (train[\"lane_count\"] == 2) & (train[\"road_name\"] == \"-\"), \"road_name\"] = \"중문로\"\n",
    "train.loc[(train[\"start_longitude\"] == 126.454583) & (train[\"start_latitude\"] == 33.466433) & (train[\"lane_count\"] == 2) & (train[\"road_name\"] == \"-\"), \"road_name\"] = \"애조로\"\n",
    "train.loc[(train[\"start_longitude\"] == 126.456384) & (train[\"start_latitude\"] == 33.465863) & (train[\"lane_count\"] == 2) & (train[\"road_name\"] == \"-\"), \"road_name\"] = \"애조로\"\n",
    "\n",
    "test.loc[(test[\"start_longitude\"] == 126.262739) & (test[\"start_latitude\"] == 33.415854) & (test[\"lane_count\"] == 2) & (test[\"road_name\"] == \"-\"), \"road_name\"] = \"월계교\"\n",
    "test.loc[(test[\"start_longitude\"] == 126.413687) & (test[\"start_latitude\"] == 33.255431) & (test[\"lane_count\"] == 2) & (test[\"road_name\"] == \"-\"), \"road_name\"] = \"중문로\"\n",
    "test.loc[(test[\"start_longitude\"] == 126.454583) & (test[\"start_latitude\"] == 33.466433) & (test[\"lane_count\"] == 2) & (test[\"road_name\"] == \"-\"), \"road_name\"] = \"애조로\"\n",
    "test.loc[(test[\"start_longitude\"] == 126.456384) & (test[\"start_latitude\"] == 33.465863) & (test[\"lane_count\"] == 2) & (test[\"road_name\"] == \"-\"), \"road_name\"] = \"애조로\""
   ]
  },
  {
   "cell_type": "code",
   "execution_count": 28,
   "metadata": {},
   "outputs": [
    {
     "name": "stdout",
     "output_type": "stream",
     "text": [
      "167420\n"
     ]
    }
   ],
   "source": [
    "print(len(train[train[\"road_name\"] == \"-\"]))"
   ]
  },
  {
   "cell_type": "code",
   "execution_count": 29,
   "metadata": {},
   "outputs": [],
   "source": [
    "train_data = train\n",
    "test_data = test"
   ]
  },
  {
   "cell_type": "code",
   "execution_count": 30,
   "metadata": {},
   "outputs": [],
   "source": [
    "def change_value(x):\n",
    "    if '일반국도' in x:\n",
    "        return 1\n",
    "    elif '지방도' in x:\n",
    "        return 2\n",
    "    else:\n",
    "        return 3\n",
    "\n",
    "# 'A' 컬럼에 함수 적용\n",
    "train_data['rough_road_name'] = train_data['road_name'].apply(change_value)"
   ]
  },
  {
   "cell_type": "code",
   "execution_count": 31,
   "metadata": {},
   "outputs": [],
   "source": [
    "def change_value(x):\n",
    "    if '일반국도' in x:\n",
    "        return 1\n",
    "    elif '지방도' in x:\n",
    "        return 2\n",
    "    else:\n",
    "        return 3\n",
    "\n",
    "# 'A' 컬럼에 함수 적용\n",
    "test_data['rough_road_name'] = test_data['road_name'].apply(change_value)"
   ]
  },
  {
   "cell_type": "code",
   "execution_count": 32,
   "metadata": {},
   "outputs": [],
   "source": [
    "train_data[\"base_date\"] = train_data[\"base_date\"] - 20000000\n",
    "train_data[\"base_date\"] = train_data[\"base_date\"] % 10000\n",
    "\n",
    "def change_value(x):\n",
    "    month = int(x / 100)\n",
    "    if month in [12,1,2]:\n",
    "        return 1\n",
    "    elif month in [3,4,5]:\n",
    "        return 2\n",
    "    elif month in [6,7,8]:\n",
    "        return 3\n",
    "    else:\n",
    "        return 4\n",
    "train_data['season'] = train_data['base_date'].apply(change_value)"
   ]
  },
  {
   "cell_type": "code",
   "execution_count": 33,
   "metadata": {},
   "outputs": [],
   "source": [
    "test_data[\"base_date\"] = test_data[\"base_date\"] - 20000000\n",
    "test_data[\"base_date\"] = test_data[\"base_date\"] % 10000\n",
    "\n",
    "def change_value(x):\n",
    "    month = int(x / 100)\n",
    "    if month in [12,1,2]:\n",
    "        return 1\n",
    "    elif month in [3,4,5]:\n",
    "        return 2\n",
    "    elif month in [6,7,8]:\n",
    "        return 3\n",
    "    else:\n",
    "        return 4\n",
    "test_data['season'] = test_data['base_date'].apply(change_value)"
   ]
  },
  {
   "cell_type": "code",
   "execution_count": 34,
   "metadata": {},
   "outputs": [],
   "source": [
    "def change_value(x):\n",
    "    month = int(x / 100)\n",
    "    return month\n",
    "\n",
    "# 'A' 컬럼에 함수 적용\n",
    "train_data['month'] = train_data['base_date'].apply(change_value)"
   ]
  },
  {
   "cell_type": "code",
   "execution_count": 35,
   "metadata": {},
   "outputs": [],
   "source": [
    "def change_value(x):\n",
    "    month = int(x / 100)\n",
    "    return month\n",
    "\n",
    "# 'A' 컬럼에 함수 적용\n",
    "test_data['month'] = test_data['base_date'].apply(change_value)"
   ]
  },
  {
   "cell_type": "code",
   "execution_count": 36,
   "metadata": {},
   "outputs": [],
   "source": [
    "def change_value(x):\n",
    "    month = int(x / 100)\n",
    "    if month in [7,8]:\n",
    "        return True\n",
    "    else:\n",
    "        return False\n",
    "train_data['peak_season'] = train_data['base_date'].apply(change_value)"
   ]
  },
  {
   "cell_type": "code",
   "execution_count": 37,
   "metadata": {},
   "outputs": [],
   "source": [
    "def change_value(x):\n",
    "    month = int(x / 100)\n",
    "    if month in [7,8]:\n",
    "        return True\n",
    "    else:\n",
    "        return False\n",
    "test_data['peak_season'] = test_data['base_date'].apply(change_value)"
   ]
  },
  {
   "cell_type": "code",
   "execution_count": 38,
   "metadata": {},
   "outputs": [],
   "source": [
    "def change_value(x):\n",
    "    base_hour = x\n",
    "    if base_hour in [0,1,2,3,4,5,6,7,22,23]:\n",
    "        return False\n",
    "    else:\n",
    "        return True\n",
    "train_data['peak_hour'] = train_data['base_hour'].apply(change_value)"
   ]
  },
  {
   "cell_type": "code",
   "execution_count": 39,
   "metadata": {},
   "outputs": [],
   "source": [
    "def change_value(x):\n",
    "    base_hour = x\n",
    "    if base_hour in [0,1,2,3,4,5,6,7,22,23]:\n",
    "        return False\n",
    "    else:\n",
    "        return True\n",
    "test_data['peak_hour'] = test_data['base_hour'].apply(change_value)"
   ]
  },
  {
   "cell_type": "markdown",
   "metadata": {},
   "source": [
    "#호선"
   ]
  },
  {
   "cell_type": "code",
   "execution_count": 40,
   "metadata": {},
   "outputs": [],
   "source": [
    "train_data['line_number'] = train_data['road_name'].str.extract('(\\d+)', expand=False).fillna(0).astype(int)\n",
    "test_data['line_number'] = test_data['road_name'].str.extract('(\\d+)', expand=False).fillna(0).astype(int)"
   ]
  },
  {
   "cell_type": "code",
   "execution_count": 41,
   "metadata": {},
   "outputs": [
    {
     "data": {
      "text/plain": [
       "Index(['id', 'base_date', 'day_of_week', 'base_hour', 'lane_count',\n",
       "       'road_rating', 'road_name', 'multi_linked', 'connect_code',\n",
       "       'maximum_speed_limit', 'vehicle_restricted', 'weight_restricted',\n",
       "       'height_restricted', 'road_type', 'start_node_name', 'start_latitude',\n",
       "       'start_longitude', 'start_turn_restricted', 'end_node_name',\n",
       "       'end_latitude', 'end_longitude', 'end_turn_restricted', 'target',\n",
       "       'ROAD_name', 'start_latitude_enc', 'rough_road_name', 'season', 'month',\n",
       "       'peak_season', 'peak_hour', 'line_number'],\n",
       "      dtype='object')"
      ]
     },
     "execution_count": 41,
     "metadata": {},
     "output_type": "execute_result"
    }
   ],
   "source": [
    "train_data.keys()"
   ]
  },
  {
   "cell_type": "code",
   "execution_count": 42,
   "metadata": {},
   "outputs": [
    {
     "data": {
      "text/plain": [
       "end_latitude\n",
       "33.248633    23126\n",
       "33.435941    20791\n",
       "33.465863    18168\n",
       "33.500330    18126\n",
       "33.507349    18083\n",
       "             ...  \n",
       "33.491567      881\n",
       "33.468664      788\n",
       "33.254153      744\n",
       "33.256671      744\n",
       "33.261270      587\n",
       "Name: count, Length: 586, dtype: int64"
      ]
     },
     "execution_count": 42,
     "metadata": {},
     "output_type": "execute_result"
    }
   ],
   "source": [
    "train_data[\"end_latitude\"].value_counts()"
   ]
  },
  {
   "cell_type": "code",
   "execution_count": 43,
   "metadata": {},
   "outputs": [],
   "source": [
    "from sklearn.preprocessing import LabelEncoder\n",
    "le = LabelEncoder()\n",
    "le=le.fit(train_data[\"end_latitude\"])\n",
    "train_data[\"end_latitude_enc\"]=le.transform(train_data[\"end_latitude\"])\n",
    "test_data[\"end_latitude_enc\"]=le.transform(test_data[\"end_latitude\"])"
   ]
  },
  {
   "cell_type": "code",
   "execution_count": 44,
   "metadata": {},
   "outputs": [],
   "source": [
    "from sklearn.preprocessing import LabelEncoder\n",
    "le = LabelEncoder()\n",
    "le=le.fit(train_data[\"weight_restricted\"])\n",
    "train_data[\"weight_restricted_enc\"]=le.transform(train_data[\"weight_restricted\"])\n",
    "test_data[\"weight_restricted_enc\"]=le.transform(test_data[\"weight_restricted\"])"
   ]
  },
  {
   "cell_type": "code",
   "execution_count": 45,
   "metadata": {},
   "outputs": [],
   "source": [
    "train_data.to_csv('train.csv', index=False)\n",
    "test_data.to_csv('test.csv', index=False)"
   ]
  }
 ],
 "metadata": {
  "kernelspec": {
   "display_name": "MathAI",
   "language": "python",
   "name": "python3"
  },
  "language_info": {
   "codemirror_mode": {
    "name": "ipython",
    "version": 3
   },
   "file_extension": ".py",
   "mimetype": "text/x-python",
   "name": "python",
   "nbconvert_exporter": "python",
   "pygments_lexer": "ipython3",
   "version": "3.10.13"
  }
 },
 "nbformat": 4,
 "nbformat_minor": 2
}
