{
 "cells": [
  {
   "cell_type": "markdown",
   "metadata": {},
   "source": [
    "## JeJu Road Dataset Info."
   ]
  },
  {
   "cell_type": "markdown",
   "metadata": {},
   "source": [
    "### 변수명,변수 설명\n",
    "\n",
    "- id : 아이디\n",
    "- base_date : 날짜\n",
    "- day_of_week : 요일\n",
    "- base_hour : 시간대\n",
    "- road_in_use : 도로사용여부\n",
    "- lane_count : 차로수\n",
    "- road_rating : 도로등급\n",
    "- multi_linked : 중용구간 여부\n",
    "- connect_code : 연결로 코드\n",
    "- maximum_speed_limit : 최고속도제한\n",
    "- weight_restricted : 통과제한하중\n",
    "- height_restricted : 통과제한높이\n",
    "- road_type : 도로유형\n",
    "- start_latitude : 시작지점의 위도\n",
    "- start_longitude : 시작지점의 경도\n",
    "- start_turn_restricted : 시작 지점의 회전제한 유무\n",
    "- end_latitude : 도착지점의 위도\n",
    "- end_longitude : 도착지점의 경도\n",
    "- end_turn_restricted : 도작지점의 회전제한 유무\n",
    "- road_name : 도로명\n",
    "- start_node_name : 시작지점명\n",
    "- end_node_name : 도착지점명\n",
    "- vehicle_restricted : 통과제한차량\n",
    "- target : 평균속도(km)"
   ]
  },
  {
   "cell_type": "code",
   "execution_count": 1,
   "metadata": {},
   "outputs": [],
   "source": [
    "import pandas as pd\n",
    "import numpy as np\n",
    "\n",
    "# Read the data\n",
    "test_data = pd.read_csv('./data/test.csv')\n",
    "train_data = pd.read_csv('./data/train.csv')\n"
   ]
  },
  {
   "cell_type": "code",
   "execution_count": 2,
   "metadata": {},
   "outputs": [
    {
     "data": {
      "text/html": [
       "<div>\n",
       "<style scoped>\n",
       "    .dataframe tbody tr th:only-of-type {\n",
       "        vertical-align: middle;\n",
       "    }\n",
       "\n",
       "    .dataframe tbody tr th {\n",
       "        vertical-align: top;\n",
       "    }\n",
       "\n",
       "    .dataframe thead th {\n",
       "        text-align: right;\n",
       "    }\n",
       "</style>\n",
       "<table border=\"1\" class=\"dataframe\">\n",
       "  <thead>\n",
       "    <tr style=\"text-align: right;\">\n",
       "      <th></th>\n",
       "      <th>id</th>\n",
       "      <th>base_date</th>\n",
       "      <th>day_of_week</th>\n",
       "      <th>base_hour</th>\n",
       "      <th>lane_count</th>\n",
       "      <th>road_rating</th>\n",
       "      <th>road_name</th>\n",
       "      <th>multi_linked</th>\n",
       "      <th>connect_code</th>\n",
       "      <th>maximum_speed_limit</th>\n",
       "      <th>...</th>\n",
       "      <th>road_type</th>\n",
       "      <th>start_node_name</th>\n",
       "      <th>start_latitude</th>\n",
       "      <th>start_longitude</th>\n",
       "      <th>start_turn_restricted</th>\n",
       "      <th>end_node_name</th>\n",
       "      <th>end_latitude</th>\n",
       "      <th>end_longitude</th>\n",
       "      <th>end_turn_restricted</th>\n",
       "      <th>target</th>\n",
       "    </tr>\n",
       "  </thead>\n",
       "  <tbody>\n",
       "    <tr>\n",
       "      <th>0</th>\n",
       "      <td>TRAIN_0000000</td>\n",
       "      <td>20220623</td>\n",
       "      <td>목</td>\n",
       "      <td>17</td>\n",
       "      <td>1</td>\n",
       "      <td>106</td>\n",
       "      <td>지방도1112호선</td>\n",
       "      <td>0</td>\n",
       "      <td>0</td>\n",
       "      <td>60.0</td>\n",
       "      <td>...</td>\n",
       "      <td>3</td>\n",
       "      <td>제3교래교</td>\n",
       "      <td>33.427747</td>\n",
       "      <td>126.662612</td>\n",
       "      <td>없음</td>\n",
       "      <td>제3교래교</td>\n",
       "      <td>33.427749</td>\n",
       "      <td>126.662335</td>\n",
       "      <td>없음</td>\n",
       "      <td>52.0</td>\n",
       "    </tr>\n",
       "    <tr>\n",
       "      <th>1</th>\n",
       "      <td>TRAIN_0000001</td>\n",
       "      <td>20220728</td>\n",
       "      <td>목</td>\n",
       "      <td>21</td>\n",
       "      <td>2</td>\n",
       "      <td>103</td>\n",
       "      <td>일반국도11호선</td>\n",
       "      <td>0</td>\n",
       "      <td>0</td>\n",
       "      <td>60.0</td>\n",
       "      <td>...</td>\n",
       "      <td>0</td>\n",
       "      <td>광양사거리</td>\n",
       "      <td>33.500730</td>\n",
       "      <td>126.529107</td>\n",
       "      <td>있음</td>\n",
       "      <td>KAL사거리</td>\n",
       "      <td>33.504811</td>\n",
       "      <td>126.526240</td>\n",
       "      <td>없음</td>\n",
       "      <td>30.0</td>\n",
       "    </tr>\n",
       "    <tr>\n",
       "      <th>2</th>\n",
       "      <td>TRAIN_0000002</td>\n",
       "      <td>20211010</td>\n",
       "      <td>일</td>\n",
       "      <td>7</td>\n",
       "      <td>2</td>\n",
       "      <td>103</td>\n",
       "      <td>일반국도16호선</td>\n",
       "      <td>0</td>\n",
       "      <td>0</td>\n",
       "      <td>80.0</td>\n",
       "      <td>...</td>\n",
       "      <td>0</td>\n",
       "      <td>창고천교</td>\n",
       "      <td>33.279145</td>\n",
       "      <td>126.368598</td>\n",
       "      <td>없음</td>\n",
       "      <td>상창육교</td>\n",
       "      <td>33.280072</td>\n",
       "      <td>126.362147</td>\n",
       "      <td>없음</td>\n",
       "      <td>61.0</td>\n",
       "    </tr>\n",
       "    <tr>\n",
       "      <th>3</th>\n",
       "      <td>TRAIN_0000003</td>\n",
       "      <td>20220311</td>\n",
       "      <td>금</td>\n",
       "      <td>13</td>\n",
       "      <td>2</td>\n",
       "      <td>107</td>\n",
       "      <td>태평로</td>\n",
       "      <td>0</td>\n",
       "      <td>0</td>\n",
       "      <td>50.0</td>\n",
       "      <td>...</td>\n",
       "      <td>0</td>\n",
       "      <td>남양리조트</td>\n",
       "      <td>33.246081</td>\n",
       "      <td>126.567204</td>\n",
       "      <td>없음</td>\n",
       "      <td>서현주택</td>\n",
       "      <td>33.245565</td>\n",
       "      <td>126.566228</td>\n",
       "      <td>없음</td>\n",
       "      <td>20.0</td>\n",
       "    </tr>\n",
       "    <tr>\n",
       "      <th>4</th>\n",
       "      <td>TRAIN_0000004</td>\n",
       "      <td>20211005</td>\n",
       "      <td>화</td>\n",
       "      <td>8</td>\n",
       "      <td>2</td>\n",
       "      <td>103</td>\n",
       "      <td>일반국도12호선</td>\n",
       "      <td>0</td>\n",
       "      <td>0</td>\n",
       "      <td>80.0</td>\n",
       "      <td>...</td>\n",
       "      <td>0</td>\n",
       "      <td>애월샷시</td>\n",
       "      <td>33.462214</td>\n",
       "      <td>126.326551</td>\n",
       "      <td>없음</td>\n",
       "      <td>애월입구</td>\n",
       "      <td>33.462677</td>\n",
       "      <td>126.330152</td>\n",
       "      <td>없음</td>\n",
       "      <td>38.0</td>\n",
       "    </tr>\n",
       "  </tbody>\n",
       "</table>\n",
       "<p>5 rows × 23 columns</p>\n",
       "</div>"
      ],
      "text/plain": [
       "              id  base_date day_of_week  base_hour  lane_count  road_rating  \\\n",
       "0  TRAIN_0000000   20220623           목         17           1          106   \n",
       "1  TRAIN_0000001   20220728           목         21           2          103   \n",
       "2  TRAIN_0000002   20211010           일          7           2          103   \n",
       "3  TRAIN_0000003   20220311           금         13           2          107   \n",
       "4  TRAIN_0000004   20211005           화          8           2          103   \n",
       "\n",
       "   road_name  multi_linked  connect_code  maximum_speed_limit  ...  road_type  \\\n",
       "0  지방도1112호선             0             0                 60.0  ...          3   \n",
       "1   일반국도11호선             0             0                 60.0  ...          0   \n",
       "2   일반국도16호선             0             0                 80.0  ...          0   \n",
       "3        태평로             0             0                 50.0  ...          0   \n",
       "4   일반국도12호선             0             0                 80.0  ...          0   \n",
       "\n",
       "   start_node_name  start_latitude  start_longitude start_turn_restricted  \\\n",
       "0            제3교래교       33.427747       126.662612                    없음   \n",
       "1            광양사거리       33.500730       126.529107                    있음   \n",
       "2             창고천교       33.279145       126.368598                    없음   \n",
       "3            남양리조트       33.246081       126.567204                    없음   \n",
       "4             애월샷시       33.462214       126.326551                    없음   \n",
       "\n",
       "   end_node_name  end_latitude end_longitude end_turn_restricted  target  \n",
       "0          제3교래교     33.427749    126.662335                  없음    52.0  \n",
       "1         KAL사거리     33.504811    126.526240                  없음    30.0  \n",
       "2           상창육교     33.280072    126.362147                  없음    61.0  \n",
       "3           서현주택     33.245565    126.566228                  없음    20.0  \n",
       "4           애월입구     33.462677    126.330152                  없음    38.0  \n",
       "\n",
       "[5 rows x 23 columns]"
      ]
     },
     "execution_count": 2,
     "metadata": {},
     "output_type": "execute_result"
    }
   ],
   "source": [
    "train_data.head()\n"
   ]
  },
  {
   "cell_type": "markdown",
   "metadata": {},
   "source": [
    "- '-' → NaN값으로 변경"
   ]
  },
  {
   "cell_type": "code",
   "execution_count": 3,
   "metadata": {},
   "outputs": [],
   "source": [
    "train_data = train_data.replace('-', np.NaN)"
   ]
  },
  {
   "cell_type": "markdown",
   "metadata": {},
   "source": [
    "- 결측치 확인"
   ]
  },
  {
   "cell_type": "code",
   "execution_count": 30,
   "metadata": {},
   "outputs": [
    {
     "name": "stdout",
     "output_type": "stream",
     "text": [
      "id                       0\n",
      "base_date                0\n",
      "day_of_week              0\n",
      "base_hour                0\n",
      "lane_count               0\n",
      "road_rating              0\n",
      "road_name                0\n",
      "multi_linked             0\n",
      "connect_code             0\n",
      "maximum_speed_limit      0\n",
      "vehicle_restricted       0\n",
      "weight_restricted        0\n",
      "height_restricted        0\n",
      "road_type                0\n",
      "start_node_name          0\n",
      "start_latitude           0\n",
      "start_longitude          0\n",
      "start_turn_restricted    0\n",
      "end_node_name            0\n",
      "end_latitude             0\n",
      "end_longitude            0\n",
      "end_turn_restricted      0\n",
      "target                   0\n",
      "month                    0\n",
      "rough_road_name          0\n",
      "line_number              0\n",
      "start_to_end             0\n",
      "dtype: int64\n"
     ]
    }
   ],
   "source": [
    "# Check for missing values\n",
    "missing_values_train_data = train_data.isnull().sum()\n",
    "# Display the missing values\n",
    "print(missing_values_train_data)"
   ]
  },
  {
   "cell_type": "code",
   "execution_count": 5,
   "metadata": {},
   "outputs": [
    {
     "data": {
      "text/plain": [
       "(4701217, 23)"
      ]
     },
     "execution_count": 5,
     "metadata": {},
     "output_type": "execute_result"
    }
   ],
   "source": [
    "train_data.shape"
   ]
  },
  {
   "cell_type": "code",
   "execution_count": 6,
   "metadata": {},
   "outputs": [
    {
     "data": {
      "text/plain": [
       "id                        object\n",
       "base_date                  int64\n",
       "day_of_week               object\n",
       "base_hour                  int64\n",
       "lane_count                 int64\n",
       "road_rating                int64\n",
       "road_name                 object\n",
       "multi_linked               int64\n",
       "connect_code               int64\n",
       "maximum_speed_limit      float64\n",
       "vehicle_restricted       float64\n",
       "weight_restricted        float64\n",
       "height_restricted        float64\n",
       "road_type                  int64\n",
       "start_node_name           object\n",
       "start_latitude           float64\n",
       "start_longitude          float64\n",
       "start_turn_restricted     object\n",
       "end_node_name             object\n",
       "end_latitude             float64\n",
       "end_longitude            float64\n",
       "end_turn_restricted       object\n",
       "target                   float64\n",
       "dtype: object"
      ]
     },
     "execution_count": 6,
     "metadata": {},
     "output_type": "execute_result"
    }
   ],
   "source": [
    "train_data.dtypes"
   ]
  },
  {
   "cell_type": "markdown",
   "metadata": {},
   "source": [
    "- NaN값 제거"
   ]
  },
  {
   "cell_type": "code",
   "execution_count": 8,
   "metadata": {},
   "outputs": [],
   "source": [
    "train_data = train_data.dropna(axis=0)"
   ]
  },
  {
   "cell_type": "markdown",
   "metadata": {},
   "source": [
    "### 도로명(road_name)\n",
    "- 도로명은 일반국도, 지방도, -로 구성되어 있음 -> 이들을 1,2,3으로 인코딩해서 분석\n",
    "\n",
    "->  ~로가 국도, 지방도에 비해 평균속도가 낮았다 : -로는 시내도로이기 때문인 것으로 예상"
   ]
  },
  {
   "cell_type": "code",
   "execution_count": 16,
   "metadata": {},
   "outputs": [],
   "source": [
    "def change_value(x):\n",
    "    if '일반국도' in x:\n",
    "        return 1\n",
    "    elif '지방도' in x:\n",
    "        return 2\n",
    "    else:\n",
    "        return 3\n",
    "\n",
    "# 'A' 컬럼에 함수 적용\n",
    "train_data['rough_road_name'] = train_data['road_name'].apply(change_value)"
   ]
  },
  {
   "cell_type": "code",
   "execution_count": 33,
   "metadata": {},
   "outputs": [
    {
     "data": {
      "text/plain": [
       "rough_road_name\n",
       "1    46.479098\n",
       "2    47.376826\n",
       "3    33.249800\n",
       "Name: target, dtype: float64"
      ]
     },
     "execution_count": 33,
     "metadata": {},
     "output_type": "execute_result"
    }
   ],
   "source": [
    "grouped = train_data.groupby('rough_road_name')['target'].mean()\n",
    "grouped"
   ]
  },
  {
   "cell_type": "markdown",
   "metadata": {},
   "source": [
    "### 날짜(월(base_date), 계절(season), 요일(day_of_week))\n",
    "\n",
    "- 요일별은 거의 차이가 없음: 주말과 주중이 차이 없는것으로 보아, 평균속도가 관광객의 영향이 많이 받는 것으로 보임\n",
    "\n",
    "- 계절별로 월을 나누어 확인해 본 결과, 여름(6-8월)이 가장 평균 속도가 낮음, 나머진 비슷\n",
    "\n",
    "- 월별로 확인해 본 결과, 성수기인 7월이 가장 평균 속도가 낮았다.(7월: 35 < 나머지: 42): 계절보다는 성수기/비성수기가 더 결정요인이 큰것같음\n",
    "\n",
    "+) 데이터가 21.9 - 22.7의 데이터기 때문에, 8월 데이터는 확인할 수 없었음+) 테스트 데이터가 22.8월 데이터임.. <- 아마도 성수기로 봐야할 것 같음"
   ]
  },
  {
   "cell_type": "markdown",
   "metadata": {},
   "source": [
    "- 요일별 데이터 분석"
   ]
  },
  {
   "cell_type": "code",
   "execution_count": 34,
   "metadata": {},
   "outputs": [],
   "source": [
    "train_data['day_of_week'].replace({'월': 1, '화': 2, '수': 3, '목': 4, '금': 5, '토': 6, '일': 7,}, inplace=True)"
   ]
  },
  {
   "cell_type": "markdown",
   "metadata": {},
   "source": [
    "- 날짜"
   ]
  },
  {
   "cell_type": "code",
   "execution_count": 10,
   "metadata": {},
   "outputs": [
    {
     "data": {
      "text/plain": [
       "0          220623\n",
       "1          220728\n",
       "2          211010\n",
       "3          220311\n",
       "4          211005\n",
       "            ...  \n",
       "4701210    220105\n",
       "4701211    211230\n",
       "4701214    220613\n",
       "4701215    211020\n",
       "4701216    211019\n",
       "Name: base_date, Length: 4131754, dtype: int64"
      ]
     },
     "execution_count": 10,
     "metadata": {},
     "output_type": "execute_result"
    }
   ],
   "source": [
    "train_data[\"base_date\"] - 20000000"
   ]
  },
  {
   "cell_type": "code",
   "execution_count": 11,
   "metadata": {},
   "outputs": [],
   "source": [
    "train_data[\"base_date\"] = train_data[\"base_date\"] - 20000000"
   ]
  },
  {
   "cell_type": "code",
   "execution_count": 12,
   "metadata": {},
   "outputs": [],
   "source": [
    "train_data[\"base_date\"] = train_data[\"base_date\"] % 10000"
   ]
  },
  {
   "cell_type": "markdown",
   "metadata": {},
   "source": [
    "- 계절"
   ]
  },
  {
   "cell_type": "code",
   "execution_count": 37,
   "metadata": {},
   "outputs": [],
   "source": [
    "def change_value(x):\n",
    "    month = int(x / 100)\n",
    "    if month in [12,1,2]:\n",
    "        return 1\n",
    "    elif month in [3,4,5]:\n",
    "        return 2\n",
    "    elif month in [6,7,8]:\n",
    "        return 3\n",
    "    else:\n",
    "        return 4\n",
    "train_data['season'] = train_data['base_date'].apply(change_value)"
   ]
  },
  {
   "cell_type": "code",
   "execution_count": 38,
   "metadata": {},
   "outputs": [
    {
     "data": {
      "text/plain": [
       "season\n",
       "1    42.839088\n",
       "2    42.900467\n",
       "3    39.905235\n",
       "4    43.426602\n",
       "Name: target, dtype: float64"
      ]
     },
     "execution_count": 38,
     "metadata": {},
     "output_type": "execute_result"
    }
   ],
   "source": [
    "grouped = train_data.groupby('season')['target'].mean()\n",
    "grouped"
   ]
  },
  {
   "cell_type": "markdown",
   "metadata": {},
   "source": [
    "- 월별 데이터 분석"
   ]
  },
  {
   "cell_type": "markdown",
   "metadata": {},
   "source": []
  },
  {
   "cell_type": "code",
   "execution_count": 14,
   "metadata": {},
   "outputs": [],
   "source": [
    "def change_value(x):\n",
    "    month = int(x / 100)\n",
    "    return month\n",
    "\n",
    "# 'A' 컬럼에 함수 적용\n",
    "train_data['month'] = train_data['base_date'].apply(change_value)"
   ]
  },
  {
   "cell_type": "code",
   "execution_count": 39,
   "metadata": {},
   "outputs": [
    {
     "data": {
      "text/plain": [
       "month\n",
       "1     42.756695\n",
       "2     42.993206\n",
       "3     43.327702\n",
       "5     42.433164\n",
       "6     42.421940\n",
       "7     35.814802\n",
       "9     43.527451\n",
       "10    43.301642\n",
       "11    43.505672\n",
       "12    42.777511\n",
       "Name: target, dtype: float64"
      ]
     },
     "execution_count": 39,
     "metadata": {},
     "output_type": "execute_result"
    }
   ],
   "source": [
    "grouped = train_data.groupby('month')['target'].mean()\n",
    "grouped"
   ]
  },
  {
   "cell_type": "markdown",
   "metadata": {},
   "source": [
    "### 성수기/비성수기\n",
    "- 7/8월 : 성수기 \n",
    "- else : 비성수기"
   ]
  },
  {
   "cell_type": "code",
   "execution_count": 40,
   "metadata": {},
   "outputs": [],
   "source": [
    "def change_value(x):\n",
    "    month = int(x / 100)\n",
    "    if month in [7,8]:\n",
    "        return True\n",
    "    else:\n",
    "        return False\n",
    "train_data['peak_season'] = train_data['base_date'].apply(change_value)"
   ]
  },
  {
   "cell_type": "code",
   "execution_count": 41,
   "metadata": {},
   "outputs": [
    {
     "data": {
      "text/plain": [
       "peak_season\n",
       "False    42.969586\n",
       "True     35.814802\n",
       "Name: target, dtype: float64"
      ]
     },
     "execution_count": 41,
     "metadata": {},
     "output_type": "execute_result"
    }
   ],
   "source": [
    "grouped = train_data.groupby('peak_season')['target'].mean()\n",
    "grouped"
   ]
  },
  {
   "cell_type": "markdown",
   "metadata": {},
   "source": [
    "### 시간(base_hour)\n",
    "\n",
    "- 10~15시가 새벽~밤 대비 평균적으로 낮은 속도를 보였고, 특히 18시에 제일 낮은 평균속도를 보임: 18시는 관광객 + 퇴근 인구 때문에 가장 낮은 평균속도를 보였을 것으로 예상: 출근시간은 크게 막히지 않는 모습을 보임: 평균속도를 결정하는 것은 주민 < 관광객"
   ]
  },
  {
   "cell_type": "code",
   "execution_count": 42,
   "metadata": {},
   "outputs": [
    {
     "data": {
      "text/plain": [
       "base_hour\n",
       "0     48.493093\n",
       "1     49.488644\n",
       "2     49.990755\n",
       "3     50.243062\n",
       "4     49.461382\n",
       "5     46.907501\n",
       "6     45.272625\n",
       "7     43.436869\n",
       "8     41.298290\n",
       "9     40.526329\n",
       "10    39.865881\n",
       "11    39.465107\n",
       "12    39.496214\n",
       "13    39.390996\n",
       "14    39.211991\n",
       "15    38.966294\n",
       "16    38.705750\n",
       "17    38.028510\n",
       "18    37.790192\n",
       "19    39.806965\n",
       "20    40.876185\n",
       "21    41.911651\n",
       "22    43.704757\n",
       "23    45.542206\n",
       "Name: target, dtype: float64"
      ]
     },
     "execution_count": 42,
     "metadata": {},
     "output_type": "execute_result"
    }
   ],
   "source": [
    "grouped = train_data.groupby('base_hour')['target'].mean()\n",
    "grouped"
   ]
  },
  {
   "cell_type": "markdown",
   "metadata": {},
   "source": [
    "### 차선 수(lane_count)\n",
    "- 평균 속도: 2(44.98)>1(43.27)>>>>>3(34.91): 차선이 많은 도로일수록 오히려 많은 관광객이 몰리는 도로일 확률이 높다."
   ]
  },
  {
   "cell_type": "code",
   "execution_count": 43,
   "metadata": {},
   "outputs": [
    {
     "data": {
      "text/plain": [
       "lane_count\n",
       "1    43.278007\n",
       "2    44.981769\n",
       "3    34.917783\n",
       "Name: target, dtype: float64"
      ]
     },
     "execution_count": 43,
     "metadata": {},
     "output_type": "execute_result"
    }
   ],
   "source": [
    "grouped = train_data.groupby('lane_count')['target'].mean()\n",
    "grouped"
   ]
  },
  {
   "cell_type": "markdown",
   "metadata": {},
   "source": [
    "### 최고속도제한\n",
    "\n",
    "- 40km 제한인 도로가 가장 평균 속도가 높음: 제한속도 40km 인 도로는 1차선에만 존재: 제한속도 40km 도로는 일반국도 12, 95 \n",
    "\n",
    "- 특히 일반국도 95가 평균속도(70)가 높음-> 잘 안쓰는 도로일 것으로 예상됨 \n",
    "\n",
    "- 95번 도로는 산업도로, 12번 도로는 일주도로 -> 그래서 95번이 유독 빨랐을 것으로 예상"
   ]
  },
  {
   "cell_type": "code",
   "execution_count": 44,
   "metadata": {},
   "outputs": [
    {
     "data": {
      "text/plain": [
       "maximum_speed_limit\n",
       "30.0    29.788546\n",
       "40.0    62.774080\n",
       "50.0    34.991438\n",
       "60.0    42.208437\n",
       "70.0    40.981438\n",
       "80.0    60.852437\n",
       "Name: target, dtype: float64"
      ]
     },
     "execution_count": 44,
     "metadata": {},
     "output_type": "execute_result"
    }
   ],
   "source": [
    "grouped = train_data.groupby('maximum_speed_limit')['target'].mean()\n",
    "grouped"
   ]
  },
  {
   "cell_type": "markdown",
   "metadata": {},
   "source": [
    "### 호선\n",
    "- 일반국도/지방도는 호선마다 평균 속도가 다름: 일반국도) 11(39.99)<99<12<16<95(70.44) 순으로 차이남\n",
    "\n",
    "  지방도) 1120 이 가장 낮음(36)"
   ]
  },
  {
   "cell_type": "code",
   "execution_count": 17,
   "metadata": {},
   "outputs": [],
   "source": [
    "train_data['line_number'] = train_data['road_name'].str.extract('(\\d+)', expand=False).fillna(0).astype(int)"
   ]
  },
  {
   "cell_type": "code",
   "execution_count": 20,
   "metadata": {},
   "outputs": [
    {
     "data": {
      "text/plain": [
       "line_number\n",
       "97      60.525723\n",
       "1112    47.291909\n",
       "1115    53.756296\n",
       "1116    61.580721\n",
       "1117    58.903308\n",
       "1118    50.635763\n",
       "1119    41.875178\n",
       "1120    36.228093\n",
       "1132    40.370720\n",
       "1136    45.922186\n",
       "Name: target, dtype: float64"
      ]
     },
     "execution_count": 20,
     "metadata": {},
     "output_type": "execute_result"
    }
   ],
   "source": [
    "road_1 = train_data[train_data[\"rough_road_name\"]==2] \n",
    "road_1.groupby(\"line_number\")['target'].mean()"
   ]
  },
  {
   "cell_type": "code",
   "execution_count": 21,
   "metadata": {},
   "outputs": [
    {
     "data": {
      "text/plain": [
       "maximum_speed_limit\n",
       "60.0    692908\n",
       "80.0    561535\n",
       "70.0    471407\n",
       "50.0    377096\n",
       "30.0     37747\n",
       "40.0      6790\n",
       "Name: count, dtype: int64"
      ]
     },
     "execution_count": 21,
     "metadata": {},
     "output_type": "execute_result"
    }
   ],
   "source": [
    "road_2 = train_data[train_data[\"rough_road_name\"]==1]\n",
    "road_2[\"maximum_speed_limit\"].value_counts()"
   ]
  },
  {
   "cell_type": "markdown",
   "metadata": {},
   "source": [
    "### 위도/경도(start_end_longitude)\n",
    "\n",
    "- 더 잘해야할 것 같음. 데이터 부족시 추가조사 필요\n",
    "\n",
    "- 초기실험에서는 제외하는것이 좋을 것 같음(minmax scaling 필요)\n",
    "\n",
    "- 출발지-도착지 이름도 있지만, 같은 이름이라면 위도/경도가 같기 때문에 사용이 필요할지 생각해봐야할 것 같음"
   ]
  },
  {
   "cell_type": "code",
   "execution_count": 24,
   "metadata": {},
   "outputs": [
    {
     "data": {
      "text/plain": [
       "start_longitude\n",
       "126.567766    21874\n",
       "126.736249    20775\n",
       "126.556173    18084\n",
       "126.505998    18076\n",
       "126.509864    17879\n",
       "              ...  \n",
       "126.682267      881\n",
       "126.677154      788\n",
       "126.524410      744\n",
       "126.524429      744\n",
       "126.525745      587\n",
       "Name: count, Length: 518, dtype: int64"
      ]
     },
     "execution_count": 24,
     "metadata": {},
     "output_type": "execute_result"
    }
   ],
   "source": [
    "train_data['start_longitude'].value_counts()"
   ]
  },
  {
   "cell_type": "code",
   "execution_count": 25,
   "metadata": {},
   "outputs": [
    {
     "data": {
      "text/plain": [
       "start_latitude\n",
       "33.248633    21874\n",
       "33.435941    20775\n",
       "33.507349    18084\n",
       "33.500330    18076\n",
       "33.249029    17879\n",
       "             ...  \n",
       "33.491729      881\n",
       "33.437249      788\n",
       "33.256671      744\n",
       "33.261270      744\n",
       "33.257401      587\n",
       "Name: count, Length: 518, dtype: int64"
      ]
     },
     "execution_count": 25,
     "metadata": {},
     "output_type": "execute_result"
    }
   ],
   "source": [
    "train_data['start_latitude'].value_counts()"
   ]
  },
  {
   "cell_type": "code",
   "execution_count": 35,
   "metadata": {},
   "outputs": [
    {
     "data": {
      "text/plain": [
       "start_latitude\n",
       "33.248633    21874\n",
       "33.435941    20775\n",
       "33.507349    18084\n",
       "33.500330    18076\n",
       "33.249029    17879\n",
       "             ...  \n",
       "33.491729      881\n",
       "33.437249      788\n",
       "33.256671      744\n",
       "33.261270      744\n",
       "33.257401      587\n",
       "Name: count, Length: 518, dtype: int64"
      ]
     },
     "execution_count": 35,
     "metadata": {},
     "output_type": "execute_result"
    }
   ],
   "source": [
    "train_data['start_latitude'].value_counts()"
   ]
  },
  {
   "cell_type": "code",
   "execution_count": 26,
   "metadata": {},
   "outputs": [],
   "source": [
    "train_data['start_to_end'] = train_data['start_node_name'] + '-' + train_data['end_node_name']"
   ]
  },
  {
   "cell_type": "code",
   "execution_count": 29,
   "metadata": {},
   "outputs": [
    {
     "data": {
      "text/plain": [
       "start_to_end\n",
       "미수2교-미수2교                         21294\n",
       "구엄교-구엄교                           16816\n",
       "부록교 시종점-부록교 시종점                   12147\n",
       "봉개교 시종점-봉개교 시종점                   12145\n",
       "우남육교-우남육교                         12091\n",
       "                                  ...  \n",
       "서귀포시 호근동 1838-4-서귀포시 서호동 308-6      744\n",
       "CU서귀호근로점-서호교회                       744\n",
       "서호교회-서귀포시 호근동 1838-4                744\n",
       "서호교회-CU서귀호근로점                       587\n",
       "식당-서호교회                             587\n",
       "Name: count, Length: 697, dtype: int64"
      ]
     },
     "execution_count": 29,
     "metadata": {},
     "output_type": "execute_result"
    }
   ],
   "source": [
    "train_data['start_to_end'].value_counts() "
   ]
  },
  {
   "cell_type": "code",
   "execution_count": 28,
   "metadata": {},
   "outputs": [
    {
     "data": {
      "text/plain": [
       "start_longitude\n",
       "126.567766    21874\n",
       "126.736249    20775\n",
       "126.556173    18084\n",
       "126.505998    18076\n",
       "126.509864    17879\n",
       "              ...  \n",
       "126.682267      881\n",
       "126.677154      788\n",
       "126.524410      744\n",
       "126.524429      744\n",
       "126.525745      587\n",
       "Name: count, Length: 518, dtype: int64"
      ]
     },
     "execution_count": 28,
     "metadata": {},
     "output_type": "execute_result"
    }
   ],
   "source": [
    "train_data['start_longitude'].value_counts() "
   ]
  },
  {
   "cell_type": "code",
   "execution_count": 37,
   "metadata": {},
   "outputs": [
    {
     "data": {
      "text/plain": [
       "start_longitude\n",
       "126.505998    12113\n",
       "126.512046    12108\n",
       "126.516469    12103\n",
       "126.536446    12095\n",
       "126.534803    12089\n",
       "              ...  \n",
       "126.187070     5080\n",
       "126.894049     5078\n",
       "126.212819     4816\n",
       "126.182617     4653\n",
       "126.210170     4390\n",
       "Name: count, Length: 138, dtype: int64"
      ]
     },
     "execution_count": 37,
     "metadata": {},
     "output_type": "execute_result"
    }
   ],
   "source": [
    "train_data[train_data[\"road_name\"]==\"일반국도12호선\"][\"start_longitude\"].value_counts()"
   ]
  },
  {
   "cell_type": "code",
   "execution_count": 45,
   "metadata": {},
   "outputs": [
    {
     "data": {
      "text/plain": [
       "Index(['id', 'base_date', 'day_of_week', 'base_hour', 'lane_count',\n",
       "       'road_rating', 'road_name', 'multi_linked', 'connect_code',\n",
       "       'maximum_speed_limit', 'vehicle_restricted', 'weight_restricted',\n",
       "       'height_restricted', 'road_type', 'start_node_name', 'start_latitude',\n",
       "       'start_longitude', 'start_turn_restricted', 'end_node_name',\n",
       "       'end_latitude', 'end_longitude', 'end_turn_restricted', 'target',\n",
       "       'month', 'rough_road_name', 'line_number', 'start_to_end', 'season',\n",
       "       'peak_season'],\n",
       "      dtype='object')"
      ]
     },
     "execution_count": 45,
     "metadata": {},
     "output_type": "execute_result"
    }
   ],
   "source": [
    "train_data.keys()"
   ]
  },
  {
   "cell_type": "code",
   "execution_count": 47,
   "metadata": {},
   "outputs": [
    {
     "data": {
      "text/plain": [
       "connect_code\n",
       "0      42.469219\n",
       "103    57.947043\n",
       "Name: target, dtype: float64"
      ]
     },
     "execution_count": 47,
     "metadata": {},
     "output_type": "execute_result"
    }
   ],
   "source": [
    "grouped = train_data.groupby('connect_code')['target'].mean()\n",
    "grouped"
   ]
  },
  {
   "cell_type": "code",
   "execution_count": null,
   "metadata": {},
   "outputs": [],
   "source": [
    "train_data.to_csv('train.csv', index=False)"
   ]
  }
 ],
 "metadata": {
  "kernelspec": {
   "display_name": "pytorch",
   "language": "python",
   "name": "python3"
  },
  "language_info": {
   "codemirror_mode": {
    "name": "ipython",
    "version": 3
   },
   "file_extension": ".py",
   "mimetype": "text/x-python",
   "name": "python",
   "nbconvert_exporter": "python",
   "pygments_lexer": "ipython3",
   "version": "3.10.13"
  }
 },
 "nbformat": 4,
 "nbformat_minor": 2
}
